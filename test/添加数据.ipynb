{
 "cells": [
  {
   "cell_type": "code",
   "execution_count": 14,
   "metadata": {},
   "outputs": [],
   "source": [
    "# 快速注册用户\n",
    "\n",
    "import requests\n",
    "from faker import Faker\n",
    "\n",
    "fake = Faker(\"zh_CN\")\n",
    "\n",
    "\n",
    "# 注册用户\n",
    "def register_user(username, password, nickname):\n",
    "    response = requests.post(\n",
    "        \"http://localhost:19769/register/api\",  # 注册接口\n",
    "        data={\n",
    "            \"username\": username,\n",
    "            \"password\": password,\n",
    "            \"confirm_password\": password,\n",
    "            \"nickname\": nickname,\n",
    "        },\n",
    "    )\n",
    "\n",
    "\n",
    "for i in range(0, 40):\n",
    "    username = \"Tuser\" + str(i)\n",
    "    password = 1234\n",
    "    # 生成中文姓名\n",
    "    nickname = fake.name()\n",
    "    result = register_user(username, password, nickname)\n"
   ]
  },
  {
   "cell_type": "code",
   "execution_count": null,
   "metadata": {},
   "outputs": [],
   "source": [
    "# 安装依赖\n",
    "%pip install requests, faker\n"
   ]
  },
  {
   "cell_type": "code",
   "execution_count": 1,
   "metadata": {},
   "outputs": [
    {
     "data": {
      "text/plain": [
       "'祁芳'"
      ]
     },
     "execution_count": 1,
     "metadata": {},
     "output_type": "execute_result"
    }
   ],
   "source": [
    "from faker import Faker\n",
    "\n",
    "# 安装\n",
    "fake = Faker(\"zh_CN\")\n",
    "\n",
    "# 生成中文姓名\n",
    "fake.name()\n"
   ]
  }
 ],
 "metadata": {
  "kernelspec": {
   "display_name": "spider",
   "language": "python",
   "name": "python3"
  },
  "language_info": {
   "codemirror_mode": {
    "name": "ipython",
    "version": 3
   },
   "file_extension": ".py",
   "mimetype": "text/x-python",
   "name": "python",
   "nbconvert_exporter": "python",
   "pygments_lexer": "ipython3",
   "version": "3.10.14"
  }
 },
 "nbformat": 4,
 "nbformat_minor": 2
}
